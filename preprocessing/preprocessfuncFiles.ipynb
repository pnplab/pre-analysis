{
 "cells": [
  {
   "cell_type": "code",
   "execution_count": 30,
   "metadata": {
    "collapsed": true
   },
   "outputs": [],
   "source": [
    "import os\n",
    "import glob2\n",
    "\n",
    "from nilearn import input_data\n",
    "from nilearn import image\n",
    "from nilearn import plotting\n",
    "from nilearn import signal\n",
    "\n",
    "from load_confounds import Params9"
   ]
  },
  {
   "cell_type": "code",
   "execution_count": 49,
   "outputs": [],
   "source": [
    "nifti_files_list = glob2.glob('ucla_sub/*_bold.nii.gz')\n",
    "comfounds_files_list = glob2.glob('ucla_sub/*.tsv')\n",
    "img = nifti_files_list[0]"
   ],
   "metadata": {
    "collapsed": false,
    "pycharm": {
     "name": "#%%\n"
    }
   }
  },
  {
   "cell_type": "code",
   "execution_count": 55,
   "outputs": [],
   "source": [
    "atlas_name = 'CAB-NP'\n",
    "atlas_path = os.path.abspath(r'..\\..\\atlas\\CAB-NP_volumetric\\CAB-NP_volumetric_liberal.nii.gz')\n",
    "atlas_masker = input_data.NiftiLabelsMasker(atlas_path, standardize=False, smoothing_fwhm=6, low_pass=0.01, t_r=2)"
   ],
   "metadata": {
    "collapsed": false,
    "pycharm": {
     "name": "#%%\n"
    }
   }
  },
  {
   "cell_type": "code",
   "execution_count": 56,
   "outputs": [],
   "source": [
    "time_series = atlas_masker.fit_transform(img, confounds=None)\n",
    "img_confounds = Params9().load(img)\n",
    "time_series_cleaned = signal.clean(time_series, confounds=img_confounds, detrend=False, standardize='zscore', t_r=2)"
   ],
   "metadata": {
    "collapsed": false,
    "pycharm": {
     "name": "#%%\n"
    }
   }
  }
 ],
 "metadata": {
  "kernelspec": {
   "display_name": "Python 3",
   "language": "python",
   "name": "python3"
  },
  "language_info": {
   "codemirror_mode": {
    "name": "ipython",
    "version": 2
   },
   "file_extension": ".py",
   "mimetype": "text/x-python",
   "name": "python",
   "nbconvert_exporter": "python",
   "pygments_lexer": "ipython2",
   "version": "2.7.6"
  }
 },
 "nbformat": 4,
 "nbformat_minor": 0
}