{
 "cells": [
  {
   "cell_type": "markdown",
   "metadata": {
    "collapsed": true,
    "pycharm": {
     "name": "#%% md\n"
    }
   },
   "source": [
    "### Import relevant libraries"
   ]
  },
  {
   "cell_type": "code",
   "execution_count": 1,
   "outputs": [],
   "source": [
    "import os\n",
    "import ast\n",
    "import pandas as pd\n",
    "import numpy as np\n",
    "import multiprocessing as mp\n",
    "import dask\n",
    "from dask.distributed import Client\n",
    "\n",
    "from nilearn import image\n",
    "from nilearn import input_data\n",
    "from nilearn import signal\n",
    "from nilearn import connectome\n",
    "\n",
    "from bids import BIDSLayout\n",
    "from load_confounds import Params9\n",
    "from load_confounds import AnatCompCor\n",
    "\n",
    "import process_bids as pb\n",
    "import process_connectome as pc\n",
    "\n",
    "pd.options.mode.chained_assignment = None"
   ],
   "metadata": {
    "collapsed": false,
    "pycharm": {
     "name": "#%%\n"
    }
   }
  },
  {
   "cell_type": "markdown",
   "source": [
    "### Useful Functions"
   ],
   "metadata": {
    "collapsed": false,
    "pycharm": {
     "name": "#%% md\n"
    }
   }
  },
  {
   "cell_type": "code",
   "execution_count": 2,
   "outputs": [],
   "source": [
    "def calculate_timeseries(atlas_masker, run_by_task_sub, subjects_im_path, csv_path, time_series_df,\n",
    "                         subject_confounds_list = None, confounds_name = None):\n",
    "\n",
    "    for i, image_path in enumerate(subjects_im_path):\n",
    "        image_caract = pb.get_entities(image_path, run_by_task_sub)\n",
    "        image_koi = pb.get_keys_of_interest(image_caract)\n",
    "\n",
    "        im = image.load_img(image_path)\n",
    "        time_series = atlas_masker.fit_transform(im, confounds=None)\n",
    "        time_series_df.loc['None',image_koi] = time_series.tolist()\n",
    "\n",
    "        for j, confounds in enumerate(subject_confounds_list):\n",
    "            time_series_cleaned = signal.clean(time_series, confounds=confounds[i])\n",
    "            time_series_df.loc[confounds_name[j+1], image_koi] = time_series_cleaned.tolist()\n",
    "\n",
    "    time_series_df = time_series_df.replace(r'^\\s*$', np.nan, regex=True) # to delete\n",
    "    if time_series_df.isnull().any().any():\n",
    "        time_series_df = time_series_df.dropna(axis='columns')\n",
    "\n",
    "    time_series_df.to_csv(csv_path, header=True)\n",
    "    return None"
   ],
   "metadata": {
    "collapsed": false,
    "pycharm": {
     "name": "#%%\n"
    }
   }
  },
  {
   "cell_type": "markdown",
   "source": [
    "### Load brain parcellation"
   ],
   "metadata": {
    "collapsed": false,
    "pycharm": {
     "name": "#%% md\n"
    }
   }
  },
  {
   "cell_type": "code",
   "execution_count": 3,
   "outputs": [],
   "source": [
    "atlas_name = 'CAB-NP'\n",
    "atlas_path = os.path.abspath(r'C:\\Users\\smine\\OneDrive\\Documents\\GitHub\\atlas\\CAB-NP_volumetric\\CAB-NP_volumetric_liberal.nii.gz')\n",
    "atlas_masker = input_data.NiftiLabelsMasker(atlas_path, resampling_target=\"data\", standardize=True,\n",
    "                                            detrend=True, memory='nilearn_cache', memory_level=1)"
   ],
   "metadata": {
    "collapsed": false,
    "pycharm": {
     "name": "#%%\n"
    }
   }
  },
  {
   "cell_type": "markdown",
   "source": [
    "### Load input data"
   ],
   "metadata": {
    "collapsed": false
   }
  },
  {
   "cell_type": "code",
   "execution_count": 4,
   "outputs": [
    {
     "data": {
      "text/plain": "BIDS Layout: ...D:\\msc-raw | Subjects: 0 | Sessions: 0 | Runs: 0"
     },
     "execution_count": 4,
     "metadata": {},
     "output_type": "execute_result"
    }
   ],
   "source": [
    "raw_path = os.path.abspath('D:\\msc-raw')\n",
    "derivatives_path = os.path.abspath(r'D:\\msc-derivatives\\fmriprep')\n",
    "\n",
    "# Lecture du format BIDS\n",
    "layout = BIDSLayout(raw_path, derivatives = derivatives_path, validate = True,\n",
    "                    database_path='pybids_True.sql', index_metadata=True, reset_database=False)\n",
    "\n",
    "layout"
   ],
   "metadata": {
    "collapsed": false,
    "pycharm": {
     "name": "#%%\n"
    }
   }
  },
  {
   "cell_type": "markdown",
   "source": [
    "### Input variables"
   ],
   "metadata": {
    "collapsed": false
   }
  },
  {
   "cell_type": "code",
   "execution_count": 5,
   "outputs": [
    {
     "name": "stdout",
     "output_type": "stream",
     "text": [
      "Subjects ID: ['MSC01', 'MSC02', 'MSC03', 'MSC04', 'MSC05', 'MSC06', 'MSC07', 'MSC08', 'MSC09', 'MSC10']\n"
     ]
    }
   ],
   "source": [
    "subjects_id_list = layout.get_subjects()\n",
    "print('Subjects ID:', subjects_id_list)"
   ],
   "metadata": {
    "collapsed": false,
    "pycharm": {
     "name": "#%%\n"
    }
   }
  },
  {
   "cell_type": "markdown",
   "source": [
    "### Parallele processing for time series calculation"
   ],
   "metadata": {
    "collapsed": false,
    "pycharm": {
     "name": "#%% md\n"
    }
   }
  },
  {
   "cell_type": "code",
   "execution_count": 6,
   "outputs": [],
   "source": [
    "time_series_info = pd.DataFrame(columns = subjects_id_list, index = ['path','nlevels','atlas'])\n",
    "time_series_info.loc['atlas',:] = atlas_name"
   ],
   "metadata": {
    "collapsed": false,
    "pycharm": {
     "name": "#%%\n"
    }
   }
  },
  {
   "cell_type": "code",
   "execution_count": 7,
   "outputs": [],
   "source": [
    "directory = 'timeSeries_files'\n",
    "if not os.path.exists(directory):\n",
    "    os.makedirs(directory)\n",
    "\n",
    "confounds_name = ['None', 'params9','aCompCor']"
   ],
   "metadata": {
    "collapsed": false,
    "pycharm": {
     "name": "#%%\n"
    }
   }
  },
  {
   "cell_type": "code",
   "execution_count": 8,
   "outputs": [
    {
     "data": {
      "text/plain": "<Client: 'tcp://127.0.0.1:55746' processes=1 threads=4, memory=8.44 GB>",
      "text/html": "<table style=\"border: 2px solid white;\">\n<tr>\n<td style=\"vertical-align: top; border: 0px solid white\">\n<h3 style=\"text-align: left;\">Client</h3>\n<ul style=\"text-align: left; list-style: none; margin: 0; padding: 0;\">\n  <li><b>Scheduler: </b>tcp://127.0.0.1:55746</li>\n  <li><b>Dashboard: </b><a href='http://127.0.0.1:8787/status' target='_blank'>http://127.0.0.1:8787/status</a></li>\n</ul>\n</td>\n<td style=\"vertical-align: top; border: 0px solid white\">\n<h3 style=\"text-align: left;\">Cluster</h3>\n<ul style=\"text-align: left; list-style:none; margin: 0; padding: 0;\">\n  <li><b>Workers: </b>1</li>\n  <li><b>Cores: </b>4</li>\n  <li><b>Memory: </b>8.44 GB</li>\n</ul>\n</td>\n</tr>\n</table>"
     },
     "execution_count": 8,
     "metadata": {},
     "output_type": "execute_result"
    }
   ],
   "source": [
    "client = Client(threads_per_worker = 4, n_workers = 1)\n",
    "client"
   ],
   "metadata": {
    "collapsed": false,
    "pycharm": {
     "name": "#%%\n"
    }
   }
  },
  {
   "cell_type": "code",
   "execution_count": 9,
   "outputs": [
    {
     "name": "stderr",
     "output_type": "stream",
     "text": [
      "C:\\Users\\smine\\Anaconda3\\lib\\site-packages\\load_confounds\\parser.py:85: UserWarning: could not find any confound with the key a_comp_cor_08\n",
      "  warnings.warn(f\"could not find any confound with the key {compcor_col}\")\n",
      "C:\\Users\\smine\\Anaconda3\\lib\\site-packages\\load_confounds\\parser.py:85: UserWarning: could not find any confound with the key a_comp_cor_09\n",
      "  warnings.warn(f\"could not find any confound with the key {compcor_col}\")\n",
      "C:\\Users\\smine\\Anaconda3\\lib\\site-packages\\load_confounds\\parser.py:85: UserWarning: could not find any confound with the key a_comp_cor_10\n",
      "  warnings.warn(f\"could not find any confound with the key {compcor_col}\")\n"
     ]
    }
   ],
   "source": [
    "results = []\n",
    "for id in subjects_id_list:\n",
    "    csv_path = os.path.join('timeSeries_files','id_atlas_timeSeries.csv'.replace('id',id).replace('atlas',atlas_name))\n",
    "\n",
    "    sessions_sub = pb.get_sessions(layout, id)\n",
    "    tasks_by_session_sub = pb.get_tasks(layout, id, sessions_sub)\n",
    "    run_by_task_sub = pb.get_run(layout, id, sessions_sub, tasks_by_session_sub)\n",
    "    subj_timeseries_df = pc.create_empty_df_timesseries(sessions_sub,tasks_by_session_sub, run_by_task_sub, confounds_name)\n",
    "\n",
    "    # Calcul sur l'ensemble des nifti\n",
    "    subjects_im_path = layout.get(subject = id, extension='nii.gz', suffix='bold', scope='derivatives',\n",
    "                                  return_type='filename')\n",
    "\n",
    "    params9 = Params9().load(subjects_im_path)\n",
    "    aCompCor = AnatCompCor().load(subjects_im_path)\n",
    "\n",
    "\n",
    "    time_series_info.loc['path',id] = csv_path\n",
    "    time_series_info.loc['nlevels',id] = subj_timeseries_df.columns.nlevels\n",
    "    subj_timeseries_df = dask.delayed(calculate_timeseries)(atlas_masker, run_by_task_sub, subjects_im_path, csv_path,\n",
    "                                                            subj_timeseries_df, subject_confounds_list = [params9,aCompCor],\n",
    "                                                            confounds_name= confounds_name)\n",
    "\n",
    "    results.append(subj_timeseries_df)"
   ],
   "metadata": {
    "collapsed": false,
    "pycharm": {
     "name": "#%%\n"
    }
   }
  },
  {
   "cell_type": "code",
   "execution_count": 10,
   "outputs": [
    {
     "data": {
      "text/plain": "                                                MSC01  \\\npath     timeSeries_files\\MSC01_CAB-NP_timeSeries.csv   \nnlevels                                             3   \natlas                                          CAB-NP   \n\n                                                MSC02  \\\npath     timeSeries_files\\MSC02_CAB-NP_timeSeries.csv   \nnlevels                                             3   \natlas                                          CAB-NP   \n\n                                                MSC03  \\\npath     timeSeries_files\\MSC03_CAB-NP_timeSeries.csv   \nnlevels                                             3   \natlas                                          CAB-NP   \n\n                                                MSC04  \\\npath     timeSeries_files\\MSC04_CAB-NP_timeSeries.csv   \nnlevels                                             3   \natlas                                          CAB-NP   \n\n                                                MSC05  \\\npath     timeSeries_files\\MSC05_CAB-NP_timeSeries.csv   \nnlevels                                             3   \natlas                                          CAB-NP   \n\n                                                MSC06  \\\npath     timeSeries_files\\MSC06_CAB-NP_timeSeries.csv   \nnlevels                                             3   \natlas                                          CAB-NP   \n\n                                                MSC07  \\\npath     timeSeries_files\\MSC07_CAB-NP_timeSeries.csv   \nnlevels                                             3   \natlas                                          CAB-NP   \n\n                                                MSC08  \\\npath     timeSeries_files\\MSC08_CAB-NP_timeSeries.csv   \nnlevels                                             3   \natlas                                          CAB-NP   \n\n                                                MSC09  \\\npath     timeSeries_files\\MSC09_CAB-NP_timeSeries.csv   \nnlevels                                             3   \natlas                                          CAB-NP   \n\n                                                MSC10  \npath     timeSeries_files\\MSC10_CAB-NP_timeSeries.csv  \nnlevels                                             3  \natlas                                          CAB-NP  ",
      "text/html": "<div>\n<style scoped>\n    .dataframe tbody tr th:only-of-type {\n        vertical-align: middle;\n    }\n\n    .dataframe tbody tr th {\n        vertical-align: top;\n    }\n\n    .dataframe thead th {\n        text-align: right;\n    }\n</style>\n<table border=\"1\" class=\"dataframe\">\n  <thead>\n    <tr style=\"text-align: right;\">\n      <th></th>\n      <th>MSC01</th>\n      <th>MSC02</th>\n      <th>MSC03</th>\n      <th>MSC04</th>\n      <th>MSC05</th>\n      <th>MSC06</th>\n      <th>MSC07</th>\n      <th>MSC08</th>\n      <th>MSC09</th>\n      <th>MSC10</th>\n    </tr>\n  </thead>\n  <tbody>\n    <tr>\n      <th>path</th>\n      <td>timeSeries_files\\MSC01_CAB-NP_timeSeries.csv</td>\n      <td>timeSeries_files\\MSC02_CAB-NP_timeSeries.csv</td>\n      <td>timeSeries_files\\MSC03_CAB-NP_timeSeries.csv</td>\n      <td>timeSeries_files\\MSC04_CAB-NP_timeSeries.csv</td>\n      <td>timeSeries_files\\MSC05_CAB-NP_timeSeries.csv</td>\n      <td>timeSeries_files\\MSC06_CAB-NP_timeSeries.csv</td>\n      <td>timeSeries_files\\MSC07_CAB-NP_timeSeries.csv</td>\n      <td>timeSeries_files\\MSC08_CAB-NP_timeSeries.csv</td>\n      <td>timeSeries_files\\MSC09_CAB-NP_timeSeries.csv</td>\n      <td>timeSeries_files\\MSC10_CAB-NP_timeSeries.csv</td>\n    </tr>\n    <tr>\n      <th>nlevels</th>\n      <td>3</td>\n      <td>3</td>\n      <td>3</td>\n      <td>3</td>\n      <td>3</td>\n      <td>3</td>\n      <td>3</td>\n      <td>3</td>\n      <td>3</td>\n      <td>3</td>\n    </tr>\n    <tr>\n      <th>atlas</th>\n      <td>CAB-NP</td>\n      <td>CAB-NP</td>\n      <td>CAB-NP</td>\n      <td>CAB-NP</td>\n      <td>CAB-NP</td>\n      <td>CAB-NP</td>\n      <td>CAB-NP</td>\n      <td>CAB-NP</td>\n      <td>CAB-NP</td>\n      <td>CAB-NP</td>\n    </tr>\n  </tbody>\n</table>\n</div>"
     },
     "execution_count": 10,
     "metadata": {},
     "output_type": "execute_result"
    }
   ],
   "source": [
    "info_csv_path = os.path.join('timeSeries_files','timeSeries_info.csv')\n",
    "time_series_info.to_csv(info_csv_path, header= True)\n",
    "time_series_info"
   ],
   "metadata": {
    "collapsed": false,
    "pycharm": {
     "name": "#%%\n"
    }
   }
  },
  {
   "cell_type": "code",
   "execution_count": null,
   "outputs": [],
   "source": [
    "dask.visualize(results)\n",
    "dask.compute(*results)\n",
    "client.close()"
   ],
   "metadata": {
    "collapsed": false,
    "pycharm": {
     "name": "#%%\n",
     "is_executing": true
    }
   }
  },
  {
   "cell_type": "markdown",
   "source": [
    "### Subjects caracteristiques"
   ],
   "metadata": {
    "collapsed": false,
    "pycharm": {
     "name": "#%% md\n"
    }
   }
  },
  {
   "cell_type": "code",
   "execution_count": null,
   "outputs": [],
   "source": [
    "time_series_info = pd.read_csv(info_csv_path, header = 0, index_col=0)\n",
    "time_series_info"
   ],
   "metadata": {
    "collapsed": false,
    "pycharm": {
     "name": "#%%\n",
     "is_executing": true
    }
   }
  },
  {
   "cell_type": "markdown",
   "source": [
    "### Connectomes calculation"
   ],
   "metadata": {
    "collapsed": false,
    "pycharm": {
     "name": "#%% md\n"
    }
   }
  },
  {
   "cell_type": "code",
   "execution_count": null,
   "outputs": [],
   "source": [
    "directory = 'connectomes'\n",
    "if not os.path.exists(directory):\n",
    "    os.makedirs(directory)\n",
    "\n",
    "confounds_name = ['None', 'params9','aCompCor']\n",
    "confounds_name.remove('None')\n",
    "\n",
    "for confound in confounds_name:\n",
    "    sub_dir = os.path.join(directory,confound)\n",
    "    if not os.path.exists(sub_dir):\n",
    "        os.makedirs(sub_dir)"
   ],
   "metadata": {
    "collapsed": false,
    "pycharm": {
     "name": "#%%\n",
     "is_executing": true
    }
   }
  },
  {
   "cell_type": "code",
   "execution_count": null,
   "outputs": [],
   "source": [
    "for id in time_series_info.columns:\n",
    "    columns_level = ast.literal_eval(time_series_info.at['nlevels',id])\n",
    "    time_series_subject = pd.read_csv(time_series_info.at['path', id], header = list(range(columns_level)), index_col = 0)\n",
    "    time_series_subject = time_series_subject.applymap(lambda x: np.array(ast.literal_eval(x)))\n",
    "\n",
    "    for caract in time_series_subject.columns:\n",
    "        time_series_subject_caract = time_series_subject.loc[confounds_name,caract]\n",
    "        correlation_measure = connectome.ConnectivityMeasure(kind='correlation', vectorize=True, discard_diagonal=True)\n",
    "        connectomes_matrix = correlation_measure.fit_transform(time_series_subject_caract)\n",
    "\n",
    "        for i,confound in enumerate(confounds_name):\n",
    "            connectome_folder_path = os.path.join(directory, confound)\n",
    "            connectome_csv_path = os.path.join(connectome_folder_path, '_'.join((id,)+caract)+'.csv')\n",
    "            np.savetxt(connectome_csv_path,connectomes_matrix[i], delimiter = ',')"
   ],
   "metadata": {
    "collapsed": false,
    "pycharm": {
     "name": "#%%\n",
     "is_executing": true
    }
   }
  },
  {
   "cell_type": "code",
   "execution_count": null,
   "outputs": [],
   "source": [
    "\n"
   ],
   "metadata": {
    "collapsed": false,
    "pycharm": {
     "name": "#%%\n",
     "is_executing": true
    }
   }
  }
 ],
 "metadata": {
  "kernelspec": {
   "name": "python3",
   "language": "python",
   "display_name": "Python 3"
  },
  "language_info": {
   "codemirror_mode": {
    "name": "ipython",
    "version": 2
   },
   "file_extension": ".py",
   "mimetype": "text/x-python",
   "name": "python",
   "nbconvert_exporter": "python",
   "pygments_lexer": "ipython2",
   "version": "2.7.6"
  }
 },
 "nbformat": 4,
 "nbformat_minor": 0
}