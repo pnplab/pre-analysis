{
 "cells": [
  {
   "cell_type": "markdown",
   "metadata": {
    "collapsed": true,
    "pycharm": {
     "name": "#%% md\n"
    }
   },
   "source": [
    "### Import relevant libraries"
   ]
  },
  {
   "cell_type": "code",
   "execution_count": 1,
   "outputs": [
    {
     "name": "stderr",
     "output_type": "stream",
     "text": [
      "C:\\Users\\smine\\anaconda3_new\\envs\\biotypes\\lib\\site-packages\\nilearn\\input_data\\__init__.py:27: FutureWarning: The import path 'nilearn.input_data' is deprecated in version 0.9. Importing from 'nilearn.input_data' will be possible at least until release 0.13.0. Please import from 'nilearn.maskers' instead.\n",
      "  warnings.warn(message, FutureWarning)\n"
     ]
    }
   ],
   "source": [
    "import os\n",
    "import importlib\n",
    "import pandas as pd\n",
    "\n",
    "from nilearn import input_data\n",
    "from bids import BIDSLayout\n",
    "from nilearn.interfaces import fmriprep\n",
    "\n",
    "import process_bids as pb\n",
    "import process_connectome as pc\n",
    "\n",
    "importlib.reload(pb)\n",
    "importlib.reload(pc)\n",
    "\n",
    "pd.options.mode.chained_assignment = None"
   ],
   "metadata": {
    "collapsed": false,
    "pycharm": {
     "name": "#%%\n"
    }
   }
  },
  {
   "cell_type": "markdown",
   "source": [
    "### Load input data"
   ],
   "metadata": {
    "collapsed": false
   }
  },
  {
   "cell_type": "code",
   "execution_count": 2,
   "outputs": [
    {
     "name": "stderr",
     "output_type": "stream",
     "text": [
      "C:\\Users\\smine\\anaconda3_new\\envs\\biotypes\\lib\\site-packages\\bids\\layout\\validation.py:51: UserWarning: The ability to pass arguments to BIDSLayout that control indexing is likely to be removed in future; possibly as early as PyBIDS 0.14. This includes the `config_filename`, `ignore`, `force_index`, and `index_metadata` arguments. The recommended usage pattern is to initialize a new BIDSLayoutIndexer with these arguments, and pass it to the BIDSLayout via the `indexer` argument.\n",
      "  warnings.warn(\"The ability to pass arguments to BIDSLayout that control \"\n"
     ]
    },
    {
     "data": {
      "text/plain": "BIDS Layout: ...o-preproc\\derivatives\\fmriprep | Subjects: 1 | Sessions: 2 | Runs: 1"
     },
     "execution_count": 2,
     "metadata": {},
     "output_type": "execute_result"
    }
   ],
   "source": [
    "dataset_name = 'lightduo'\n",
    "#raw_path = os.path.abspath('D:\\msc-raw')\n",
    "derivatives_path = os.path.abspath(r'..\\..\\biotypes\\dataset_sample\\lightduo-preproc\\derivatives\\fmriprep')\n",
    "\n",
    "# Lecture du format BIDS\n",
    "layout = BIDSLayout(derivatives_path, index_metadata=True, reset_database=False, validate=False,\n",
    "                    config=[\"bids\", \"derivatives\"])\n",
    "\n",
    "layout"
   ],
   "metadata": {
    "collapsed": false,
    "pycharm": {
     "name": "#%%\n"
    }
   }
  },
  {
   "cell_type": "markdown",
   "source": [
    "### Input variables"
   ],
   "metadata": {
    "collapsed": false
   }
  },
  {
   "cell_type": "code",
   "execution_count": 8,
   "outputs": [
    {
     "name": "stdout",
     "output_type": "stream",
     "text": [
      "Subjects ID: ['01']\n",
      "Repetition Time: 2.0\n"
     ]
    }
   ],
   "source": [
    "subjects_id_list = layout.get_subjects()\n",
    "t_r = float(layout.get_RepetitionTime()[0])\n",
    "print('Subjects ID:', subjects_id_list)\n",
    "print('Repetition Time:', t_r)"
   ],
   "metadata": {
    "collapsed": false,
    "pycharm": {
     "name": "#%%\n"
    }
   }
  },
  {
   "cell_type": "markdown",
   "source": [
    "### Load brain parcellation"
   ],
   "metadata": {
    "collapsed": false
   }
  },
  {
   "cell_type": "code",
   "execution_count": null,
   "outputs": [],
   "source": [
    "atlas_name = 'CAB-NP'\n",
    "atlas_path = os.path.abspath(r'..\\..\\atlas\\CAB-NP_volumetric\\CAB-NP_volumetric_liberal.nii.gz')\n",
    "atlas_masker = input_data.NiftiLabelsMasker(atlas_path, standardize=False, smoothing_fwhm=6, low_pass=0.01, t_r=t_r)"
   ],
   "metadata": {
    "collapsed": false,
    "pycharm": {
     "name": "#%%\n"
    }
   }
  },
  {
   "cell_type": "markdown",
   "source": [
    "### Parallele processing for time series calculation"
   ],
   "metadata": {
    "collapsed": false,
    "pycharm": {
     "name": "#%% md\n"
    }
   }
  },
  {
   "cell_type": "code",
   "execution_count": 7,
   "outputs": [],
   "source": [
    "time_series_info = pd.DataFrame(columns = subjects_id_list, index = ['path','nlevels','atlas'])\n",
    "time_series_info.loc['atlas',:] = atlas_name"
   ],
   "metadata": {
    "collapsed": false,
    "pycharm": {
     "name": "#%%\n"
    }
   }
  },
  {
   "cell_type": "code",
   "execution_count": 8,
   "outputs": [],
   "source": [
    "directory = 'timeSeries_files'\n",
    "\n",
    "sub_dir = os.path.join(directory,dataset_name,atlas_name)\n",
    "if not os.path.exists(sub_dir):\n",
    "    os.makedirs(sub_dir)\n",
    "\n",
    "confounds_name = ['None','CompCor']"
   ],
   "metadata": {
    "collapsed": false,
    "pycharm": {
     "name": "#%%\n"
    }
   }
  },
  {
   "cell_type": "code",
   "execution_count": null,
   "outputs": [],
   "source": [
    "for id in subjects_id_list:\n",
    "    csv_path = os.path.join(sub_dir ,'id_atlas_timeSeries.csv'.replace('id',id).replace('atlas',atlas_name))\n",
    "\n",
    "    sessions_sub = pb.get_sessions(layout, id)\n",
    "    tasks_by_session_sub = pb.get_tasks(layout, id, sessions_sub)\n",
    "    run_by_task_sub = pb.get_run(layout, id, sessions_sub, tasks_by_session_sub)\n",
    "    subj_timeseries_df = pc.create_empty_df_timesseries(sessions_sub,tasks_by_session_sub, run_by_task_sub, confounds_name)\n",
    "\n",
    "    # Calcul sur l'ensemble des nifti\n",
    "    subj_nii_path = layout.get(subject = id, extension='nii.gz', suffix='bold', scope='derivatives',\n",
    "                                  return_type='filename')\n",
    "\n",
    "\n",
    "    subj_CompCor = fmriprep.load_confounds_strategy(subj_nii_path, denoise_strategy='compcor')[0]\n",
    "\n",
    "    time_series_info.loc['path',id] = csv_path\n",
    "    time_series_info.loc['nlevels',id] = subj_timeseries_df.columns.nlevels\n",
    "    subj_timeseries_df = pc.calculate_timeseries(atlas_masker, run_by_task_sub, subj_nii_path, csv_path,\n",
    "                                                subj_timeseries_df, t_r, subject_confounds_list = [subj_CompCor],\n",
    "                                                confounds_name= confounds_name)"
   ],
   "metadata": {
    "collapsed": false,
    "pycharm": {
     "name": "#%%\n",
     "is_executing": true
    }
   }
  },
  {
   "cell_type": "code",
   "execution_count": null,
   "outputs": [],
   "source": [
    "info_csv_path = os.path.join(sub_dir,'timeSeries_info.csv')\n",
    "time_series_info.to_csv(info_csv_path, header= True)\n",
    "time_series_info"
   ],
   "metadata": {
    "collapsed": false,
    "pycharm": {
     "name": "#%%\n",
     "is_executing": true
    }
   }
  },
  {
   "cell_type": "markdown",
   "source": [
    "### Subjects caracteristiques"
   ],
   "metadata": {
    "collapsed": false,
    "pycharm": {
     "name": "#%% md\n"
    }
   }
  },
  {
   "cell_type": "code",
   "execution_count": null,
   "outputs": [],
   "source": [
    "time_series_info = pd.read_csv(info_csv_path, header = 0, index_col=0)\n",
    "time_series_info"
   ],
   "metadata": {
    "collapsed": false,
    "pycharm": {
     "name": "#%%\n",
     "is_executing": true
    }
   }
  },
  {
   "cell_type": "markdown",
   "source": [
    "### Connectomes calculation"
   ],
   "metadata": {
    "collapsed": false,
    "pycharm": {
     "name": "#%% md\n"
    }
   }
  },
  {
   "cell_type": "code",
   "execution_count": null,
   "outputs": [],
   "source": [
    "directory = 'connectomes'\n",
    "sub_dir = os.path.join(directory,dataset_name, atlas_name)\n",
    "\n",
    "confounds_name.remove('None')\n",
    "\n",
    "for confound in confounds_name:\n",
    "    conf_dir = os.path.join(sub_dir,confound)\n",
    "    if not os.path.exists(conf_dir):\n",
    "        os.makedirs(conf_dir)"
   ],
   "metadata": {
    "collapsed": false,
    "pycharm": {
     "name": "#%%\n",
     "is_executing": true
    }
   }
  },
  {
   "cell_type": "code",
   "execution_count": null,
   "outputs": [],
   "source": [
    "kind_connect = 'correlation'\n",
    "vectorize_connect = True\n",
    "discard_diagonal_connect = True\n",
    "\n",
    "pc.extract_connectomes(time_series_info, sub_dir, confounds_name, kind=kind_connect, vectorize=vectorize_connect,\n",
    "                       discard_diagonal=discard_diagonal_connect)\n"
   ],
   "metadata": {
    "collapsed": false,
    "pycharm": {
     "name": "#%%\n",
     "is_executing": true
    }
   }
  }
 ],
 "metadata": {
  "kernelspec": {
   "name": "python3",
   "language": "python",
   "display_name": "Python 3"
  },
  "language_info": {
   "codemirror_mode": {
    "name": "ipython",
    "version": 2
   },
   "file_extension": ".py",
   "mimetype": "text/x-python",
   "name": "python",
   "nbconvert_exporter": "python",
   "pygments_lexer": "ipython2",
   "version": "2.7.6"
  }
 },
 "nbformat": 4,
 "nbformat_minor": 0
}