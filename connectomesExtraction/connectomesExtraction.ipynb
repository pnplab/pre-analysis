{
 "cells": [
  {
   "cell_type": "markdown",
   "metadata": {
    "collapsed": true,
    "pycharm": {
     "name": "#%% md\n"
    }
   },
   "source": [
    "### Import relevant libraries"
   ]
  },
  {
   "cell_type": "code",
   "execution_count": 1,
   "outputs": [],
   "source": [
    "import os\n",
    "import pandas as pd\n",
    "import numpy as np\n",
    "\n",
    "from nilearn import image\n",
    "from nilearn import input_data\n",
    "from nilearn import signal\n",
    "from nilearn import connectome\n",
    "\n",
    "from bids import BIDSLayout\n",
    "from load_confounds import Params9\n",
    "from load_confounds import AnatCompCor\n",
    "\n",
    "import process_bids as pb\n",
    "import process_connectome as pc\n",
    "\n",
    "pd.options.mode.chained_assignment = None"
   ],
   "metadata": {
    "collapsed": false,
    "pycharm": {
     "name": "#%%\n"
    }
   }
  },
  {
   "cell_type": "markdown",
   "source": [
    "### Useful Functions"
   ],
   "metadata": {
    "collapsed": false,
    "pycharm": {
     "name": "#%% md\n"
    }
   }
  },
  {
   "cell_type": "markdown",
   "source": [
    "### Load input data"
   ],
   "metadata": {
    "collapsed": false
   }
  },
  {
   "cell_type": "code",
   "execution_count": 5,
   "outputs": [
    {
     "data": {
      "text/plain": "BIDS Layout: ...D:\\msc-raw | Subjects: 0 | Sessions: 0 | Runs: 0"
     },
     "execution_count": 5,
     "metadata": {},
     "output_type": "execute_result"
    }
   ],
   "source": [
    "dataset_name = 'msc'\n",
    "raw_path = os.path.abspath('D:\\msc-raw')\n",
    "derivatives_path = os.path.abspath(r'D:\\msc-derivatives\\fmriprep')\n",
    "\n",
    "# Lecture du format BIDS\n",
    "layout = BIDSLayout(raw_path, derivatives = derivatives_path, validate = True,\n",
    "                    database_path='pybids_True.sql', index_metadata=True, reset_database=False)\n",
    "\n",
    "layout"
   ],
   "metadata": {
    "collapsed": false,
    "pycharm": {
     "name": "#%%\n"
    }
   }
  },
  {
   "cell_type": "markdown",
   "source": [
    "### Input variables"
   ],
   "metadata": {
    "collapsed": false
   }
  },
  {
   "cell_type": "code",
   "execution_count": 6,
   "outputs": [
    {
     "name": "stdout",
     "output_type": "stream",
     "text": [
      "Subjects ID: ['MSC01', 'MSC02', 'MSC03', 'MSC04', 'MSC05', 'MSC06', 'MSC07', 'MSC08', 'MSC09', 'MSC10']\n"
     ]
    }
   ],
   "source": [
    "subjects_id_list = layout.get_subjects()\n",
    "t_r = layout.get_tr()\n",
    "print('Subjects ID:', subjects_id_list)"
   ],
   "metadata": {
    "collapsed": false,
    "pycharm": {
     "name": "#%%\n"
    }
   }
  },
  {
   "cell_type": "markdown",
   "source": [
    "### Load brain parcellation"
   ],
   "metadata": {
    "collapsed": false
   }
  },
  {
   "cell_type": "code",
   "execution_count": null,
   "outputs": [],
   "source": [
    "atlas_name = 'CAB-NP'\n",
    "atlas_path = os.path.abspath(r'..\\..\\atlas\\CAB-NP_volumetric\\CAB-NP_volumetric_liberal.nii.gz')\n",
    "atlas_masker = input_data.NiftiLabelsMasker(atlas_path, standardize=False, smoothing_fwhm=6, low_pass=0.01, t_r=t_r)"
   ],
   "metadata": {
    "collapsed": false,
    "pycharm": {
     "name": "#%%\n"
    }
   }
  },
  {
   "cell_type": "markdown",
   "source": [
    "### Parallele processing for time series calculation"
   ],
   "metadata": {
    "collapsed": false,
    "pycharm": {
     "name": "#%% md\n"
    }
   }
  },
  {
   "cell_type": "code",
   "execution_count": 7,
   "outputs": [],
   "source": [
    "time_series_info = pd.DataFrame(columns = subjects_id_list, index = ['path','nlevels','atlas'])\n",
    "time_series_info.loc['atlas',:] = atlas_name"
   ],
   "metadata": {
    "collapsed": false,
    "pycharm": {
     "name": "#%%\n"
    }
   }
  },
  {
   "cell_type": "code",
   "execution_count": 8,
   "outputs": [],
   "source": [
    "directory = 'timeSeries_files'\n",
    "\n",
    "sub_dir = os.path.join(directory,dataset_name,atlas_name)\n",
    "if not os.path.exists(sub_dir):\n",
    "    os.makedirs(sub_dir)\n",
    "\n",
    "confounds_name = ['None', 'params9','aCompCor']"
   ],
   "metadata": {
    "collapsed": false,
    "pycharm": {
     "name": "#%%\n"
    }
   }
  },
  {
   "cell_type": "code",
   "execution_count": null,
   "outputs": [],
   "source": [
    "for id in subjects_id_list:\n",
    "    csv_path = os.path.join(sub_dir ,'id_atlas_timeSeries.csv'.replace('id',id).replace('atlas',atlas_name))\n",
    "\n",
    "    sessions_sub = pb.get_sessions(layout, id)\n",
    "    tasks_by_session_sub = pb.get_tasks(layout, id, sessions_sub)\n",
    "    run_by_task_sub = pb.get_run(layout, id, sessions_sub, tasks_by_session_sub)\n",
    "    subj_timeseries_df = pc.create_empty_df_timesseries(sessions_sub,tasks_by_session_sub, run_by_task_sub, confounds_name)\n",
    "\n",
    "    # Calcul sur l'ensemble des nifti\n",
    "    subjects_im_path = layout.get(subject = id, extension='nii.gz', suffix='bold', scope='derivatives',\n",
    "                                  return_type='filename')\n",
    "\n",
    "    params9 = Params9().load(subjects_im_path)\n",
    "    aCompCor = AnatCompCor().load(subjects_im_path)\n",
    "\n",
    "\n",
    "    time_series_info.loc['path',id] = csv_path\n",
    "    time_series_info.loc['nlevels',id] = subj_timeseries_df.columns.nlevels\n",
    "    subj_timeseries_df = pc.calculate_timeseries(atlas_masker, run_by_task_sub, subjects_im_path, csv_path,\n",
    "                                                subj_timeseries_df, t_r, subject_confounds_list = [params9,aCompCor],\n",
    "                                                confounds_name= confounds_name)"
   ],
   "metadata": {
    "collapsed": false,
    "pycharm": {
     "name": "#%%\n",
     "is_executing": true
    }
   }
  },
  {
   "cell_type": "code",
   "execution_count": null,
   "outputs": [],
   "source": [
    "info_csv_path = os.path.join(sub_dir,'timeSeries_info.csv')\n",
    "time_series_info.to_csv(info_csv_path, header= True)\n",
    "time_series_info"
   ],
   "metadata": {
    "collapsed": false,
    "pycharm": {
     "name": "#%%\n",
     "is_executing": true
    }
   }
  },
  {
   "cell_type": "markdown",
   "source": [
    "### Subjects caracteristiques"
   ],
   "metadata": {
    "collapsed": false,
    "pycharm": {
     "name": "#%% md\n"
    }
   }
  },
  {
   "cell_type": "code",
   "execution_count": null,
   "outputs": [],
   "source": [
    "time_series_info = pd.read_csv(info_csv_path, header = 0, index_col=0)\n",
    "time_series_info"
   ],
   "metadata": {
    "collapsed": false,
    "pycharm": {
     "name": "#%%\n",
     "is_executing": true
    }
   }
  },
  {
   "cell_type": "markdown",
   "source": [
    "### Connectomes calculation"
   ],
   "metadata": {
    "collapsed": false,
    "pycharm": {
     "name": "#%% md\n"
    }
   }
  },
  {
   "cell_type": "code",
   "execution_count": null,
   "outputs": [],
   "source": [
    "directory = 'connectomes'\n",
    "\n",
    "sub_dir = os.path.join(directory,dataset_name, atlas_name)\n",
    "if not os.path.exists(sub_dir):\n",
    "    os.makedirs(sub_dir)\n",
    "\n",
    "confounds_name.remove('None')\n",
    "\n",
    "for confound in confounds_name:\n",
    "    conf_dir = os.path.join(sub_dir,confound)\n",
    "    if not os.path.exists(conf_dir):\n",
    "        os.makedirs(conf_dir)"
   ],
   "metadata": {
    "collapsed": false,
    "pycharm": {
     "name": "#%%\n",
     "is_executing": true
    }
   }
  },
  {
   "cell_type": "code",
   "execution_count": null,
   "outputs": [],
   "source": [
    "kind_connect = 'correlation'\n",
    "vectorize_connect = True\n",
    "discard_diagonal_connect = True\n",
    "\n",
    "pc.extract_connectomes(time_series_info, sub_dir, confounds_name, kind=kind_connect, vectorize=vectorize_connect,\n",
    "                       discard_diagonal=discard_diagonal_connect)\n"
   ],
   "metadata": {
    "collapsed": false,
    "pycharm": {
     "name": "#%%\n",
     "is_executing": true
    }
   }
  }
 ],
 "metadata": {
  "kernelspec": {
   "name": "python3",
   "language": "python",
   "display_name": "Python 3"
  },
  "language_info": {
   "codemirror_mode": {
    "name": "ipython",
    "version": 2
   },
   "file_extension": ".py",
   "mimetype": "text/x-python",
   "name": "python",
   "nbconvert_exporter": "python",
   "pygments_lexer": "ipython2",
   "version": "2.7.6"
  }
 },
 "nbformat": 4,
 "nbformat_minor": 0
}